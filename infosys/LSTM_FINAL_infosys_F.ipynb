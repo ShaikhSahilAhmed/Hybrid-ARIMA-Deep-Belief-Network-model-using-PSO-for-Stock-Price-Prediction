{
  "nbformat": 4,
  "nbformat_minor": 0,
  "metadata": {
    "colab": {
      "name": "LSTM_FINAL_infosys_F.ipynb",
      "provenance": [],
      "collapsed_sections": []
    },
    "kernelspec": {
      "name": "python3",
      "display_name": "Python 3"
    }
  },
  "cells": [
    {
      "cell_type": "code",
      "metadata": {
        "id": "_jLdgaNdbIxB",
        "colab_type": "code",
        "outputId": "c4cc344b-1140-479a-c032-69b1d82fe72e",
        "colab": {
          "base_uri": "https://localhost:8080/",
          "height": 80
        }
      },
      "source": [
        "import numpy as np\n",
        "import pandas as pd\n",
        "import matplotlib.pyplot as plt\n",
        "from statsmodels.graphics.tsaplots import plot_acf,plot_pacf \n",
        "from statsmodels.tsa.seasonal import seasonal_decompose                       \n",
        "from sklearn.metrics import mean_squared_error\n",
        "from statsmodels.tools.eval_measures import rmse\n",
        "from sklearn.model_selection import train_test_split\n",
        "import numpy\n",
        "import matplotlib.pyplot as plt\n",
        "import pandas\n",
        "import math\n",
        "from keras.models import Sequential\n",
        "from keras.layers import Dense,Activation,Dropout\n",
        "from sklearn import preprocessing\n",
        "from keras.wrappers.scikit_learn import KerasRegressor\n",
        "from keras.layers.recurrent import LSTM\n",
        "from keras.models import Sequential\n",
        "from keras.layers import Dense\n",
        "from keras.layers import LSTM\n",
        "from sklearn.preprocessing import MinMaxScaler\n",
        "from sklearn.metrics import mean_squared_error\n",
        "import warnings\n",
        "warnings.filterwarnings(\"ignore\")\n",
        "#df = pd.read_csv('/content/Scaled_days.csv')"
      ],
      "execution_count": 1,
      "outputs": [
        {
          "output_type": "stream",
          "text": [
            "Using TensorFlow backend.\n"
          ],
          "name": "stderr"
        },
        {
          "output_type": "display_data",
          "data": {
            "text/html": [
              "<p style=\"color: red;\">\n",
              "The default version of TensorFlow in Colab will soon switch to TensorFlow 2.x.<br>\n",
              "We recommend you <a href=\"https://www.tensorflow.org/guide/migrate\" target=\"_blank\">upgrade</a> now \n",
              "or ensure your notebook will continue to use TensorFlow 1.x via the <code>%tensorflow_version 1.x</code> magic:\n",
              "<a href=\"https://colab.research.google.com/notebooks/tensorflow_version.ipynb\" target=\"_blank\">more info</a>.</p>\n"
            ],
            "text/plain": [
              "<IPython.core.display.HTML object>"
            ]
          },
          "metadata": {
            "tags": []
          }
        }
      ]
    },
    {
      "cell_type": "code",
      "metadata": {
        "id": "GLcrT93PiI46",
        "colab_type": "code",
        "colab": {}
      },
      "source": [
        "# load the dataset\n",
        "dataframe = pandas.read_csv('/content/INFY.NS.csv', usecols=[1], engine='python')\n",
        "dataset = dataframe.values\n",
        "dataset = dataset.astype('float32')"
      ],
      "execution_count": 0,
      "outputs": []
    },
    {
      "cell_type": "code",
      "metadata": {
        "id": "lk1sLKXTcfFD",
        "colab_type": "code",
        "colab": {}
      },
      "source": [
        "sales = pd.read_csv(\"/content/INFY.NS.csv\").fillna(0)"
      ],
      "execution_count": 0,
      "outputs": []
    },
    {
      "cell_type": "code",
      "metadata": {
        "id": "79e4knowiXbl",
        "colab_type": "code",
        "colab": {}
      },
      "source": [
        "# fix random seed for reproducibility\n",
        "numpy.random.seed(7)"
      ],
      "execution_count": 0,
      "outputs": []
    },
    {
      "cell_type": "code",
      "metadata": {
        "id": "I2wUXpXuiXpa",
        "colab_type": "code",
        "colab": {}
      },
      "source": [
        "# normalize the dataset\n",
        "scaler = MinMaxScaler(feature_range=(0, 1))\n",
        "dataset = scaler.fit_transform(dataset)"
      ],
      "execution_count": 0,
      "outputs": []
    },
    {
      "cell_type": "code",
      "metadata": {
        "id": "i-NjkNGhiXlg",
        "colab_type": "code",
        "outputId": "b6ce5461-44ae-4e2d-ace1-ebcac5e20774",
        "colab": {
          "base_uri": "https://localhost:8080/",
          "height": 34
        }
      },
      "source": [
        "# split into train and test sets\n",
        "train_size = int(len(dataset) * 0.80)\n",
        "test_size = len(dataset) - train_size\n",
        "train, test = dataset[0:train_size,:], dataset[train_size:len(dataset),:]\n",
        "print(len(train), len(test))"
      ],
      "execution_count": 6,
      "outputs": [
        {
          "output_type": "stream",
          "text": [
            "1978 495\n"
          ],
          "name": "stdout"
        }
      ]
    },
    {
      "cell_type": "code",
      "metadata": {
        "id": "eb0nVNxy-Exi",
        "colab_type": "code",
        "colab": {}
      },
      "source": [
        "# split into train and test sets\n",
        "#train_size = int(len(dataset) * 0.80)\n",
        "#test_size = int(len(dataset) * 0.15)\n",
        "#validation_size = len(dataset) - (train_size + test_size)\n",
        "#train, test, validation = dataset[0:train_size,:], dataset[train_size:(train_size+test_size),:],dataset[train_size+test_size:len(dataset),:]\n",
        "#print(len(train), len(test), len(validation))"
      ],
      "execution_count": 0,
      "outputs": []
    },
    {
      "cell_type": "code",
      "metadata": {
        "id": "FluDZcUZiXjI",
        "colab_type": "code",
        "colab": {}
      },
      "source": [
        "# convert an array of values into a dataset matrix\n",
        "def create_dataset(dataset, look_back=1):\n",
        "\tdataX, dataY = [], []\n",
        "\tfor i in range(len(dataset)-look_back-1):\n",
        "\t\ta = dataset[i:(i+look_back), 0]\n",
        "\t\tdataX.append(a)\n",
        "\t\tdataY.append(dataset[i + look_back, 0])\n",
        "\treturn numpy.array(dataX), numpy.array(dataY)"
      ],
      "execution_count": 0,
      "outputs": []
    },
    {
      "cell_type": "code",
      "metadata": {
        "id": "50Xlb-8ZiXgy",
        "colab_type": "code",
        "colab": {}
      },
      "source": [
        "# reshape into X=t and Y=t+1\n",
        "look_back = 1\n",
        "trainX, trainY = create_dataset(train, look_back)\n",
        "testX, testY = create_dataset(test, look_back)"
      ],
      "execution_count": 0,
      "outputs": []
    },
    {
      "cell_type": "code",
      "metadata": {
        "id": "L8ZOeCqgiXev",
        "colab_type": "code",
        "colab": {}
      },
      "source": [
        "# reshape input to be [samples, time steps, features]\n",
        "trainX = numpy.reshape(trainX, (trainX.shape[0], 1, trainX.shape[1]))\n",
        "testX = numpy.reshape(testX, (testX.shape[0], 1, testX.shape[1]))"
      ],
      "execution_count": 0,
      "outputs": []
    },
    {
      "cell_type": "code",
      "metadata": {
        "id": "lQe4FsH0i1G4",
        "colab_type": "code",
        "outputId": "657b1141-b087-42a2-fcb0-300875c8463d",
        "colab": {
          "base_uri": "https://localhost:8080/",
          "height": 374
        }
      },
      "source": [
        "# create and fit the LSTM network\n",
        "model = Sequential()\n",
        "model.add(LSTM(4, input_shape=(1, look_back)))\n",
        "model.add(Dense(1))\n",
        "model.compile(loss='mean_squared_error', optimizer='RMSProp')\n",
        "model.fit(trainX, trainY, epochs=10, batch_size=1, verbose=2)"
      ],
      "execution_count": 12,
      "outputs": [
        {
          "output_type": "stream",
          "text": [
            "Epoch 1/10\n",
            " - 4s - loss: 0.0045\n",
            "Epoch 2/10\n",
            " - 4s - loss: 1.7237e-04\n",
            "Epoch 3/10\n",
            " - 4s - loss: 1.6754e-04\n",
            "Epoch 4/10\n",
            " - 4s - loss: 1.6893e-04\n",
            "Epoch 5/10\n",
            " - 4s - loss: 1.6600e-04\n",
            "Epoch 6/10\n",
            " - 4s - loss: 1.6591e-04\n",
            "Epoch 7/10\n",
            " - 4s - loss: 1.6839e-04\n",
            "Epoch 8/10\n",
            " - 4s - loss: 1.6658e-04\n",
            "Epoch 9/10\n",
            " - 4s - loss: 1.6765e-04\n",
            "Epoch 10/10\n",
            " - 4s - loss: 1.6682e-04\n"
          ],
          "name": "stdout"
        },
        {
          "output_type": "execute_result",
          "data": {
            "text/plain": [
              "<keras.callbacks.History at 0x7fe93dd83d68>"
            ]
          },
          "metadata": {
            "tags": []
          },
          "execution_count": 12
        }
      ]
    },
    {
      "cell_type": "code",
      "metadata": {
        "id": "LVqC811ni1Jk",
        "colab_type": "code",
        "colab": {}
      },
      "source": [
        "from sklearn.metrics import mean_absolute_error   #MAE\n",
        "from sklearn.metrics import mean_squared_error as mse   #MSE\n",
        "\n",
        "def parser(x):\n",
        "    return datetime.strptime(x,'%Y-%m')\n",
        "\n",
        "def rmse(predictions, targets):\n",
        "    return np.sqrt(((predictions - targets) ** 2).mean())  #RMSE\n",
        "\n",
        "def RMSLE(predict, target):                   #Root Mean Squared Logarithmic Error\n",
        "    total = 0 \n",
        "    for k in range(len(predict)):\n",
        "        LPred= np.log1p(predict[k]+1)\n",
        "        LTarg = np.log1p(target[k] + 1)\n",
        "        if not (math.isnan(LPred)) and  not (math.isnan(LTarg)): \n",
        "            total = total + ((LPred-LTarg) **2)\n",
        "        \n",
        "    total = total / len(predict)        \n",
        "    return np.sqrt(total)\n",
        "\n",
        "def mean_absolute_percentage_error(y_true, y_pred): #MAPE\n",
        "    y_true, y_pred = np.array(y_true), np.array(y_pred)\n",
        "    return np.mean(np.abs((y_true - y_pred) / y_true))\n",
        "\n",
        "def smape_kun(y_true, y_pred):\n",
        "    return np.mean((np.abs(y_pred - y_true) * 200/ (np.abs(y_pred) + np.abs(y_true))))  #Symmetric Mean Absolute Percentage Error (SMAPE)"
      ],
      "execution_count": 0,
      "outputs": []
    },
    {
      "cell_type": "code",
      "metadata": {
        "id": "su-29kNbnx-V",
        "colab_type": "code",
        "outputId": "42d9101b-6983-467f-c115-2c85388eb80e",
        "colab": {
          "base_uri": "https://localhost:8080/",
          "height": 51
        }
      },
      "source": [
        "# make predictions\n",
        "trainPredict = model.predict(trainX)\n",
        "testPredict = model.predict(testX)\n",
        "# invert predictions\n",
        "trainPredict = scaler.inverse_transform(trainPredict)\n",
        "trainY = scaler.inverse_transform([trainY])\n",
        "testPredict = scaler.inverse_transform(testPredict)\n",
        "testY = scaler.inverse_transform([testY])\n",
        "# calculate root mean squared error\n",
        "trainScore = math.sqrt(mean_squared_error(trainY[0], trainPredict[:,0]))\n",
        "print('Train Score: %.2f RMSE' % (trainScore))\n",
        "testScore = math.sqrt(mean_squared_error(testY[0], testPredict[:,0]))\n",
        "print('Test Score: %.2f RMSE' % (testScore))\n",
        "\n"
      ],
      "execution_count": 14,
      "outputs": [
        {
          "output_type": "stream",
          "text": [
            "Train Score: 7.60 RMSE\n",
            "Test Score: 16.44 RMSE\n"
          ],
          "name": "stdout"
        }
      ]
    },
    {
      "cell_type": "code",
      "metadata": {
        "id": "yBuTk0s30LAV",
        "colab_type": "code",
        "outputId": "cabd84b7-ccd3-4e9a-dfe1-d4e956af8433",
        "colab": {
          "base_uri": "https://localhost:8080/",
          "height": 119
        }
      },
      "source": [
        "error = mean_squared_error(testY[0], testPredict[:,0])\n",
        "print('Test MSE: %.3f' % error)\n",
        "\n",
        "error = mean_absolute_error(testY[0], testPredict[:,0])\n",
        "print('Test MAE: %.3f' % error)\n",
        "\n",
        "error = rmse(testY[0], testPredict[:,0])\n",
        "print('Test RMSE: %.3f' % error)\n",
        "\n",
        "error = RMSLE(testY[0], testPredict[:,0])\n",
        "print('Test RMSLE: %.3f' % error)\n",
        "\n",
        "error = mean_absolute_percentage_error(testY[0], testPredict[:,0])\n",
        "print('Test MAPE: %.3f' % error)\n",
        "\n",
        "error2 = smape_kun(testY[0], testPredict[:,0])\n",
        "print('Test SMAPE: %.3f' % error2)"
      ],
      "execution_count": 15,
      "outputs": [
        {
          "output_type": "stream",
          "text": [
            "Test MSE: 270.334\n",
            "Test MAE: 13.316\n",
            "Test RMSE: 16.442\n",
            "Test RMSLE: 0.022\n",
            "Test MAPE: 0.018\n",
            "Test SMAPE: 1.851\n"
          ],
          "name": "stdout"
        }
      ]
    },
    {
      "cell_type": "code",
      "metadata": {
        "id": "gepWOBALi1Lp",
        "colab_type": "code",
        "outputId": "1b3e959b-fdf3-4040-829f-9d4379f4894d",
        "colab": {
          "base_uri": "https://localhost:8080/",
          "height": 475
        }
      },
      "source": [
        "# shift train predictions for plotting\n",
        "trainPredictPlot = numpy.empty_like(dataset)\n",
        "trainPredictPlot[:, :] = numpy.nan\n",
        "trainPredictPlot[look_back:len(trainPredict)+look_back, :] = trainPredict\n",
        "# shift test predictions for plotting\n",
        "testPredictPlot = numpy.empty_like(dataset)\n",
        "testPredictPlot[:, :] = numpy.nan\n",
        "testPredictPlot[len(trainPredict)+(look_back*2)+1:len(dataset)-1, :] = testPredict\n",
        "# plot baseline and predictions\n",
        "plt.figure(figsize=(12,7))\n",
        "plt.plot(scaler.inverse_transform(dataset), label='Actual Price')\n",
        "plt.plot(trainPredictPlot, label='Training Data')\n",
        "plt.plot(testPredictPlot, label='Predicted Price')\n",
        "plt.title('Infosys Prices using LSTM')\n",
        "plt.xlabel('Date')\n",
        "plt.ylabel('Prices')\n",
        "plt.xticks(np.arange(0,2518, 1300), sales['Date'][0:2518:1300])\n",
        "plt.legend()"
      ],
      "execution_count": 16,
      "outputs": [
        {
          "output_type": "execute_result",
          "data": {
            "text/plain": [
              "<matplotlib.legend.Legend at 0x7fe93da6d5c0>"
            ]
          },
          "metadata": {
            "tags": []
          },
          "execution_count": 16
        },
        {
          "output_type": "display_data",
          "data": {
            "image/png": "[encoded data removed]",
            "text/plain": [
              "<Figure size 864x504 with 1 Axes>"
            ]
          },
          "metadata": {
            "tags": []
          }
        }
      ]
    },
    {
      "cell_type": "code",
      "metadata": {
        "id": "fklJW4nLp9bo",
        "colab_type": "code",
        "outputId": "d9157fcb-c2e9-490c-bfcd-0dea0a9fc6f8",
        "colab": {
          "base_uri": "https://localhost:8080/",
          "height": 119
        }
      },
      "source": [
        "error = mean_squared_error(trainY[0], trainPredict[:,0])\n",
        "print('Train MSE: %.3f' % error)\n",
        "\n",
        "error = mean_absolute_error(trainY[0], trainPredict[:,0])\n",
        "print('Train MAE: %.3f' % error)\n",
        "\n",
        "error = rmse(trainY[0], trainPredict[:,0])\n",
        "print('Train RMSE: %.3f' % error)\n",
        "\n",
        "error = RMSLE(trainY[0], trainPredict[:,0])\n",
        "print('Train RMSLE: %.3f' % error)\n",
        "\n",
        "error = mean_absolute_percentage_error(trainY[0], trainPredict[:,0])\n",
        "print('Train MAPE: %.3f' % error)\n",
        "\n",
        "error2 = smape_kun(trainY[0], trainPredict[:,0])\n",
        "print('Train SMAPE: %.3f' % error2)"
      ],
      "execution_count": 17,
      "outputs": [
        {
          "output_type": "stream",
          "text": [
            "Train MSE: 57.773\n",
            "Train MAE: 5.475\n",
            "Train RMSE: 7.601\n",
            "Train RMSLE: 0.018\n",
            "Train MAPE: 0.013\n",
            "Train SMAPE: 1.313\n"
          ],
          "name": "stdout"
        }
      ]
    }
  ]
}